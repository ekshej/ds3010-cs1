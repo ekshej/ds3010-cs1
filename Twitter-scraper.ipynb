{
 "cells": [
  {
   "cell_type": "code",
   "execution_count": 27,
   "metadata": {},
   "outputs": [
    {
     "name": "stdout",
     "output_type": "stream",
     "text": [
      "[\n",
      " \"RT @chesscom: \\u2654 The Tata Steel Chess Tournament continues at 4:20 A.M PST! \\n\\n\\u2657 Featuring top players @MagnusCarlsen @FabianoCaruana and mor\\u2026\",\n",
      " \"RT @weprototype_app: \\\"The time your game is most vulnerable is when you are ahead, never let up\\\" - Rod Laver\\n\\n#weprototypeapps #mobileapps\\u2026\",\n",
      " \"@SethAbramson \\u201cIt\\u2019s not my view that [insert enemy name] is a child molester. No sir, they\\u2019ve definitely not ever v\\u2026 https://t.co/AiMmv2MpI8\",\n",
      " \"Defaite 3-4 sur le fil de notre \\u00e9quipe Aix 5 contre l'\\u00c9chiquier Loisirs Orangeois 1 (ELO) ce week-end.\\n\\n#chess\\u2026 https://t.co/W1RTsgIDob\",\n",
      " \"@SethAbramson Have you seen how his cult is reacting though? \\\"WHY IS BERNIE APOLOGIZING FOR BEING RIGHT?\\\" \\\"Clearly\\u2026 https://t.co/9cal17GK2h\"\n",
      "]\n",
      "200\n"
     ]
    }
   ],
   "source": [
    "import twitter\n",
    "import json\n",
    "#---------------------------------------------\n",
    "# Define a Function to Login Twitter API\n",
    "def oauth_login():\n",
    "    # Prof. Paffenroth has a developer account for the class.  He will provide the Twitter access tokens for\n",
    "    # each team\n",
    "    # See https://developer.twitter.com/docs/auth/oauth for more information \n",
    "    # on Twitter's OAuth implementation.\n",
    "    \n",
    "    CONSUMER_KEY = 'QoTiAk8g8Hm9Zhejyt1GxF9Bp'\n",
    "    CONSUMER_SECRET ='Lj6Hg1XlDcKeT2pFNS330vN7RqgRzxHpsUovESMd9braCZ4WGO'\n",
    "    OAUTH_TOKEN = '571213367-dPdnChuVRjwRHoqfH0pi15IbgGhJmRoKxJjrP9wD'\n",
    "    OAUTH_TOKEN_SECRET = '3cp8koRc8EKcVn3DkI0HoGquXJWMnAYgU7pzMiMnNq3jq'\n",
    "    \n",
    "    auth = twitter.oauth.OAuth(OAUTH_TOKEN, OAUTH_TOKEN_SECRET,\n",
    "                               CONSUMER_KEY, CONSUMER_SECRET)\n",
    "    \n",
    "    twitter_api = twitter.Twitter(auth=auth)\n",
    "    return twitter_api\n",
    "\n",
    "twitter_api = oauth_login()\n",
    "\n",
    "#----------------------------------------------\n",
    "# Your code starts here\n",
    "#   Please add comments or text cells in between to explain the general idea of each block of the code.\n",
    "#   Please feel free to add more cells below this cell if necessary\n",
    "\n",
    "# XXX: Set this variable to a trending topic,\n",
    "# or anything else for that matter. The example query below\n",
    "# was a trending topic when this content was being developed\n",
    "# and is used throughout the remainder of this chapter.\n",
    "q = 'Chess'\n",
    "count = 100\n",
    "# See https://dev.twitter.com/docs/api/1.1/get/search/tweets\n",
    "search_results = twitter_api.search.tweets(q=q, count=count)\n",
    "statuses = search_results['statuses']\n",
    "# Iterate through 5 more batches of results by following the cursor\n",
    "for _ in range(5):\n",
    "    try:\n",
    "        next_results = search_results['search_metadata']['next_results']\n",
    "    except: # No more results when next_results doesn't exist\n",
    "        break\n",
    "\n",
    " # Create a dictionary from next_results, which has the following form:\n",
    " # ?max_id=313519052523986943&q=NCAA&include_entities=1\n",
    "kwargs = dict([ kv.split('=') for kv in next_results[1:].split(\"&\") ])\n",
    "\n",
    "search_results = twitter_api.search.tweets(**kwargs)\n",
    "\n",
    "statuses += search_results['statuses']\n",
    "\n",
    "status_texts = [ status['text'] for status in statuses ]\n",
    "\n",
    "import json\n",
    "with open('data.json', 'w', encoding='utf-8') as f:\n",
    "    json.dump(status_texts, f, ensure_ascii=False, indent=4)\n",
    "    \n",
    "# Explore the first 5 items for each...\n",
    "# print (json.dumps(status_texts[0:5], indent=1))\n",
    "print(len(status_texts))\n"
   ]
  },
  {
   "cell_type": "code",
   "execution_count": null,
   "metadata": {},
   "outputs": [],
   "source": []
  },
  {
   "cell_type": "code",
   "execution_count": null,
   "metadata": {},
   "outputs": [],
   "source": []
  }
 ],
 "metadata": {
  "kernelspec": {
   "display_name": "Python 3",
   "language": "python",
   "name": "python3"
  },
  "language_info": {
   "codemirror_mode": {
    "name": "ipython",
    "version": 3
   },
   "file_extension": ".py",
   "mimetype": "text/x-python",
   "name": "python",
   "nbconvert_exporter": "python",
   "pygments_lexer": "ipython3",
   "version": "3.7.4"
  }
 },
 "nbformat": 4,
 "nbformat_minor": 2
}
